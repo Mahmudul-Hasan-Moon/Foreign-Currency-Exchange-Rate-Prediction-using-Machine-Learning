{
 "cells": [
  {
   "cell_type": "markdown",
   "metadata": {},
   "source": [
    "## Foreign currency exchange rate Prediction"
   ]
  },
  {
   "cell_type": "markdown",
   "metadata": {},
   "source": [
    "<html>\n",
    "<body>\n",
    "<p>\n",
    "Mahmudul Hasan Moon<br>\n",
    "BSc(Eng.) in CSE, HSTU<br>\n",
    "E-mail: mahmudulmoon123@gmail.com<br>\n",
    "Website: staywithmoon.me</p>\n",
    "</body>\n",
    "</html>    "
   ]
  },
  {
   "cell_type": "code",
   "execution_count": 1,
   "metadata": {},
   "outputs": [],
   "source": [
    "import numpy as np\n",
    "import pandas as pd\n",
    "import matplotlib.pyplot as plt\n",
    "%matplotlib inline\n",
    "import tensorflow as tf\n",
    "import keras\n",
    "from keras.models import Sequential\n",
    "from keras.layers import Dense, LSTM\n",
    "from keras.layers import Bidirectional"
   ]
  },
  {
   "cell_type": "code",
   "execution_count": 2,
   "metadata": {},
   "outputs": [],
   "source": [
    "data_set = pd.read_csv(\"Foreign_Exchange_Rates.csv\", na_values = \"ND\")"
   ]
  },
  {
   "cell_type": "code",
   "execution_count": 3,
   "metadata": {},
   "outputs": [
    {
     "data": {
      "text/html": [
       "<div>\n",
       "<style scoped>\n",
       "    .dataframe tbody tr th:only-of-type {\n",
       "        vertical-align: middle;\n",
       "    }\n",
       "\n",
       "    .dataframe tbody tr th {\n",
       "        vertical-align: top;\n",
       "    }\n",
       "\n",
       "    .dataframe thead th {\n",
       "        text-align: right;\n",
       "    }\n",
       "</style>\n",
       "<table border=\"1\" class=\"dataframe\">\n",
       "  <thead>\n",
       "    <tr style=\"text-align: right;\">\n",
       "      <th></th>\n",
       "      <th>Unnamed: 0</th>\n",
       "      <th>Time Serie</th>\n",
       "      <th>AUSTRALIA - AUSTRALIAN DOLLAR/US$</th>\n",
       "      <th>EURO AREA - EURO/US$</th>\n",
       "      <th>NEW ZEALAND - NEW ZELAND DOLLAR/US$</th>\n",
       "      <th>UNITED KINGDOM - UNITED KINGDOM POUND/US$</th>\n",
       "      <th>BRAZIL - REAL/US$</th>\n",
       "      <th>CANADA - CANADIAN DOLLAR/US$</th>\n",
       "      <th>CHINA - YUAN/US$</th>\n",
       "      <th>HONG KONG - HONG KONG DOLLAR/US$</th>\n",
       "      <th>...</th>\n",
       "      <th>SINGAPORE - SINGAPORE DOLLAR/US$</th>\n",
       "      <th>DENMARK - DANISH KRONE/US$</th>\n",
       "      <th>JAPAN - YEN/US$</th>\n",
       "      <th>MALAYSIA - RINGGIT/US$</th>\n",
       "      <th>NORWAY - NORWEGIAN KRONE/US$</th>\n",
       "      <th>SWEDEN - KRONA/US$</th>\n",
       "      <th>SRI LANKA - SRI LANKAN RUPEE/US$</th>\n",
       "      <th>SWITZERLAND - FRANC/US$</th>\n",
       "      <th>TAIWAN - NEW TAIWAN DOLLAR/US$</th>\n",
       "      <th>THAILAND - BAHT/US$</th>\n",
       "    </tr>\n",
       "  </thead>\n",
       "  <tbody>\n",
       "    <tr>\n",
       "      <th>0</th>\n",
       "      <td>0</td>\n",
       "      <td>1/3/2000</td>\n",
       "      <td>1.5172</td>\n",
       "      <td>0.9847</td>\n",
       "      <td>1.9033</td>\n",
       "      <td>0.6146</td>\n",
       "      <td>1.8050</td>\n",
       "      <td>1.4465</td>\n",
       "      <td>8.2798</td>\n",
       "      <td>7.7765</td>\n",
       "      <td>...</td>\n",
       "      <td>1.6563</td>\n",
       "      <td>7.3290</td>\n",
       "      <td>101.70</td>\n",
       "      <td>3.8</td>\n",
       "      <td>7.9640</td>\n",
       "      <td>8.4430</td>\n",
       "      <td>72.30</td>\n",
       "      <td>1.5808</td>\n",
       "      <td>31.38</td>\n",
       "      <td>36.97</td>\n",
       "    </tr>\n",
       "    <tr>\n",
       "      <th>1</th>\n",
       "      <td>1</td>\n",
       "      <td>1/4/2000</td>\n",
       "      <td>1.5239</td>\n",
       "      <td>0.9700</td>\n",
       "      <td>1.9238</td>\n",
       "      <td>0.6109</td>\n",
       "      <td>1.8405</td>\n",
       "      <td>1.4518</td>\n",
       "      <td>8.2799</td>\n",
       "      <td>7.7775</td>\n",
       "      <td>...</td>\n",
       "      <td>1.6535</td>\n",
       "      <td>7.2180</td>\n",
       "      <td>103.09</td>\n",
       "      <td>3.8</td>\n",
       "      <td>7.9340</td>\n",
       "      <td>8.3600</td>\n",
       "      <td>72.65</td>\n",
       "      <td>1.5565</td>\n",
       "      <td>30.60</td>\n",
       "      <td>37.13</td>\n",
       "    </tr>\n",
       "    <tr>\n",
       "      <th>2</th>\n",
       "      <td>2</td>\n",
       "      <td>1/5/2000</td>\n",
       "      <td>1.5267</td>\n",
       "      <td>0.9676</td>\n",
       "      <td>1.9339</td>\n",
       "      <td>0.6092</td>\n",
       "      <td>1.8560</td>\n",
       "      <td>1.4518</td>\n",
       "      <td>8.2798</td>\n",
       "      <td>7.7780</td>\n",
       "      <td>...</td>\n",
       "      <td>1.6560</td>\n",
       "      <td>7.2080</td>\n",
       "      <td>103.77</td>\n",
       "      <td>3.8</td>\n",
       "      <td>7.9350</td>\n",
       "      <td>8.3530</td>\n",
       "      <td>72.95</td>\n",
       "      <td>1.5526</td>\n",
       "      <td>30.80</td>\n",
       "      <td>37.10</td>\n",
       "    </tr>\n",
       "    <tr>\n",
       "      <th>3</th>\n",
       "      <td>3</td>\n",
       "      <td>1/6/2000</td>\n",
       "      <td>1.5291</td>\n",
       "      <td>0.9686</td>\n",
       "      <td>1.9436</td>\n",
       "      <td>0.6070</td>\n",
       "      <td>1.8400</td>\n",
       "      <td>1.4571</td>\n",
       "      <td>8.2797</td>\n",
       "      <td>7.7785</td>\n",
       "      <td>...</td>\n",
       "      <td>1.6655</td>\n",
       "      <td>7.2125</td>\n",
       "      <td>105.19</td>\n",
       "      <td>3.8</td>\n",
       "      <td>7.9400</td>\n",
       "      <td>8.3675</td>\n",
       "      <td>72.95</td>\n",
       "      <td>1.5540</td>\n",
       "      <td>31.75</td>\n",
       "      <td>37.62</td>\n",
       "    </tr>\n",
       "    <tr>\n",
       "      <th>4</th>\n",
       "      <td>4</td>\n",
       "      <td>1/7/2000</td>\n",
       "      <td>1.5272</td>\n",
       "      <td>0.9714</td>\n",
       "      <td>1.9380</td>\n",
       "      <td>0.6104</td>\n",
       "      <td>1.8310</td>\n",
       "      <td>1.4505</td>\n",
       "      <td>8.2794</td>\n",
       "      <td>7.7783</td>\n",
       "      <td>...</td>\n",
       "      <td>1.6625</td>\n",
       "      <td>7.2285</td>\n",
       "      <td>105.17</td>\n",
       "      <td>3.8</td>\n",
       "      <td>7.9660</td>\n",
       "      <td>8.4150</td>\n",
       "      <td>73.15</td>\n",
       "      <td>1.5623</td>\n",
       "      <td>30.85</td>\n",
       "      <td>37.30</td>\n",
       "    </tr>\n",
       "    <tr>\n",
       "      <th>5</th>\n",
       "      <td>5</td>\n",
       "      <td>1/10/2000</td>\n",
       "      <td>1.5242</td>\n",
       "      <td>0.9754</td>\n",
       "      <td>1.9350</td>\n",
       "      <td>0.6107</td>\n",
       "      <td>1.8190</td>\n",
       "      <td>1.4568</td>\n",
       "      <td>8.2794</td>\n",
       "      <td>7.7785</td>\n",
       "      <td>...</td>\n",
       "      <td>1.6618</td>\n",
       "      <td>7.2540</td>\n",
       "      <td>105.28</td>\n",
       "      <td>3.8</td>\n",
       "      <td>8.0240</td>\n",
       "      <td>8.4490</td>\n",
       "      <td>73.30</td>\n",
       "      <td>1.5704</td>\n",
       "      <td>30.83</td>\n",
       "      <td>37.27</td>\n",
       "    </tr>\n",
       "    <tr>\n",
       "      <th>6</th>\n",
       "      <td>6</td>\n",
       "      <td>1/11/2000</td>\n",
       "      <td>1.5209</td>\n",
       "      <td>0.9688</td>\n",
       "      <td>1.9365</td>\n",
       "      <td>0.6068</td>\n",
       "      <td>1.8225</td>\n",
       "      <td>1.4570</td>\n",
       "      <td>8.2795</td>\n",
       "      <td>7.7785</td>\n",
       "      <td>...</td>\n",
       "      <td>1.6690</td>\n",
       "      <td>7.2140</td>\n",
       "      <td>106.09</td>\n",
       "      <td>3.8</td>\n",
       "      <td>7.9690</td>\n",
       "      <td>8.3970</td>\n",
       "      <td>73.35</td>\n",
       "      <td>1.5605</td>\n",
       "      <td>30.83</td>\n",
       "      <td>37.61</td>\n",
       "    </tr>\n",
       "    <tr>\n",
       "      <th>7</th>\n",
       "      <td>7</td>\n",
       "      <td>1/12/2000</td>\n",
       "      <td>1.5202</td>\n",
       "      <td>0.9727</td>\n",
       "      <td>1.9286</td>\n",
       "      <td>0.6073</td>\n",
       "      <td>1.8350</td>\n",
       "      <td>1.4550</td>\n",
       "      <td>8.2796</td>\n",
       "      <td>7.7787</td>\n",
       "      <td>...</td>\n",
       "      <td>1.6690</td>\n",
       "      <td>7.2360</td>\n",
       "      <td>105.76</td>\n",
       "      <td>3.8</td>\n",
       "      <td>7.9770</td>\n",
       "      <td>8.4180</td>\n",
       "      <td>73.35</td>\n",
       "      <td>1.5660</td>\n",
       "      <td>30.80</td>\n",
       "      <td>37.54</td>\n",
       "    </tr>\n",
       "    <tr>\n",
       "      <th>8</th>\n",
       "      <td>8</td>\n",
       "      <td>1/13/2000</td>\n",
       "      <td>1.4954</td>\n",
       "      <td>0.9737</td>\n",
       "      <td>1.9084</td>\n",
       "      <td>0.6067</td>\n",
       "      <td>1.8140</td>\n",
       "      <td>1.4495</td>\n",
       "      <td>8.2798</td>\n",
       "      <td>7.7788</td>\n",
       "      <td>...</td>\n",
       "      <td>1.6700</td>\n",
       "      <td>7.2520</td>\n",
       "      <td>106.09</td>\n",
       "      <td>3.8</td>\n",
       "      <td>7.9425</td>\n",
       "      <td>8.4170</td>\n",
       "      <td>73.35</td>\n",
       "      <td>1.5707</td>\n",
       "      <td>30.80</td>\n",
       "      <td>37.49</td>\n",
       "    </tr>\n",
       "    <tr>\n",
       "      <th>9</th>\n",
       "      <td>9</td>\n",
       "      <td>1/14/2000</td>\n",
       "      <td>1.5004</td>\n",
       "      <td>0.9874</td>\n",
       "      <td>1.9186</td>\n",
       "      <td>0.6115</td>\n",
       "      <td>1.8050</td>\n",
       "      <td>1.4497</td>\n",
       "      <td>8.2797</td>\n",
       "      <td>7.7789</td>\n",
       "      <td>...</td>\n",
       "      <td>1.6752</td>\n",
       "      <td>7.3470</td>\n",
       "      <td>105.86</td>\n",
       "      <td>3.8</td>\n",
       "      <td>7.9970</td>\n",
       "      <td>8.4740</td>\n",
       "      <td>73.35</td>\n",
       "      <td>1.5945</td>\n",
       "      <td>30.83</td>\n",
       "      <td>37.55</td>\n",
       "    </tr>\n",
       "    <tr>\n",
       "      <th>10</th>\n",
       "      <td>10</td>\n",
       "      <td>1/17/2000</td>\n",
       "      <td>NaN</td>\n",
       "      <td>NaN</td>\n",
       "      <td>NaN</td>\n",
       "      <td>NaN</td>\n",
       "      <td>NaN</td>\n",
       "      <td>NaN</td>\n",
       "      <td>NaN</td>\n",
       "      <td>NaN</td>\n",
       "      <td>...</td>\n",
       "      <td>NaN</td>\n",
       "      <td>NaN</td>\n",
       "      <td>NaN</td>\n",
       "      <td>NaN</td>\n",
       "      <td>NaN</td>\n",
       "      <td>NaN</td>\n",
       "      <td>NaN</td>\n",
       "      <td>NaN</td>\n",
       "      <td>NaN</td>\n",
       "      <td>NaN</td>\n",
       "    </tr>\n",
       "    <tr>\n",
       "      <th>11</th>\n",
       "      <td>11</td>\n",
       "      <td>1/18/2000</td>\n",
       "      <td>1.5060</td>\n",
       "      <td>0.9880</td>\n",
       "      <td>1.9342</td>\n",
       "      <td>0.6105</td>\n",
       "      <td>1.7942</td>\n",
       "      <td>1.4502</td>\n",
       "      <td>8.2793</td>\n",
       "      <td>7.7790</td>\n",
       "      <td>...</td>\n",
       "      <td>1.6735</td>\n",
       "      <td>7.3560</td>\n",
       "      <td>105.49</td>\n",
       "      <td>3.8</td>\n",
       "      <td>8.0100</td>\n",
       "      <td>8.4680</td>\n",
       "      <td>72.85</td>\n",
       "      <td>1.5942</td>\n",
       "      <td>30.89</td>\n",
       "      <td>37.40</td>\n",
       "    </tr>\n",
       "    <tr>\n",
       "      <th>12</th>\n",
       "      <td>12</td>\n",
       "      <td>1/19/2000</td>\n",
       "      <td>1.5074</td>\n",
       "      <td>0.9886</td>\n",
       "      <td>1.9399</td>\n",
       "      <td>0.6083</td>\n",
       "      <td>1.7930</td>\n",
       "      <td>1.4527</td>\n",
       "      <td>8.2797</td>\n",
       "      <td>7.7798</td>\n",
       "      <td>...</td>\n",
       "      <td>1.6753</td>\n",
       "      <td>7.3655</td>\n",
       "      <td>105.39</td>\n",
       "      <td>3.8</td>\n",
       "      <td>8.0000</td>\n",
       "      <td>8.4870</td>\n",
       "      <td>73.20</td>\n",
       "      <td>1.5965</td>\n",
       "      <td>30.85</td>\n",
       "      <td>37.40</td>\n",
       "    </tr>\n",
       "    <tr>\n",
       "      <th>13</th>\n",
       "      <td>13</td>\n",
       "      <td>1/20/2000</td>\n",
       "      <td>1.5002</td>\n",
       "      <td>0.9869</td>\n",
       "      <td>1.9486</td>\n",
       "      <td>0.6047</td>\n",
       "      <td>1.7785</td>\n",
       "      <td>1.4484</td>\n",
       "      <td>8.2794</td>\n",
       "      <td>7.7795</td>\n",
       "      <td>...</td>\n",
       "      <td>1.6765</td>\n",
       "      <td>7.3430</td>\n",
       "      <td>105.45</td>\n",
       "      <td>3.8</td>\n",
       "      <td>7.9770</td>\n",
       "      <td>8.4680</td>\n",
       "      <td>72.95</td>\n",
       "      <td>1.5915</td>\n",
       "      <td>30.85</td>\n",
       "      <td>37.28</td>\n",
       "    </tr>\n",
       "    <tr>\n",
       "      <th>14</th>\n",
       "      <td>14</td>\n",
       "      <td>1/21/2000</td>\n",
       "      <td>1.5103</td>\n",
       "      <td>0.9901</td>\n",
       "      <td>1.9592</td>\n",
       "      <td>0.6059</td>\n",
       "      <td>1.7800</td>\n",
       "      <td>1.4420</td>\n",
       "      <td>8.2795</td>\n",
       "      <td>7.7792</td>\n",
       "      <td>...</td>\n",
       "      <td>1.6810</td>\n",
       "      <td>7.3725</td>\n",
       "      <td>104.96</td>\n",
       "      <td>3.8</td>\n",
       "      <td>7.9990</td>\n",
       "      <td>8.4930</td>\n",
       "      <td>73.30</td>\n",
       "      <td>1.5973</td>\n",
       "      <td>30.85</td>\n",
       "      <td>37.23</td>\n",
       "    </tr>\n",
       "    <tr>\n",
       "      <th>15</th>\n",
       "      <td>15</td>\n",
       "      <td>1/24/2000</td>\n",
       "      <td>1.5281</td>\n",
       "      <td>0.9981</td>\n",
       "      <td>1.9759</td>\n",
       "      <td>0.6053</td>\n",
       "      <td>1.7680</td>\n",
       "      <td>1.4400</td>\n",
       "      <td>8.2789</td>\n",
       "      <td>7.7795</td>\n",
       "      <td>...</td>\n",
       "      <td>1.6825</td>\n",
       "      <td>7.4280</td>\n",
       "      <td>105.52</td>\n",
       "      <td>3.8</td>\n",
       "      <td>8.0260</td>\n",
       "      <td>8.5260</td>\n",
       "      <td>72.95</td>\n",
       "      <td>1.6090</td>\n",
       "      <td>30.85</td>\n",
       "      <td>37.30</td>\n",
       "    </tr>\n",
       "    <tr>\n",
       "      <th>16</th>\n",
       "      <td>16</td>\n",
       "      <td>1/25/2000</td>\n",
       "      <td>1.5286</td>\n",
       "      <td>0.9959</td>\n",
       "      <td>1.9732</td>\n",
       "      <td>0.6067</td>\n",
       "      <td>1.7800</td>\n",
       "      <td>1.4389</td>\n",
       "      <td>8.2786</td>\n",
       "      <td>7.7800</td>\n",
       "      <td>...</td>\n",
       "      <td>1.6867</td>\n",
       "      <td>7.4120</td>\n",
       "      <td>105.87</td>\n",
       "      <td>3.8</td>\n",
       "      <td>8.0360</td>\n",
       "      <td>8.5210</td>\n",
       "      <td>73.45</td>\n",
       "      <td>1.6085</td>\n",
       "      <td>30.85</td>\n",
       "      <td>37.27</td>\n",
       "    </tr>\n",
       "    <tr>\n",
       "      <th>17</th>\n",
       "      <td>17</td>\n",
       "      <td>1/26/2000</td>\n",
       "      <td>1.5373</td>\n",
       "      <td>0.9989</td>\n",
       "      <td>1.9763</td>\n",
       "      <td>0.6099</td>\n",
       "      <td>1.7810</td>\n",
       "      <td>1.4379</td>\n",
       "      <td>8.2782</td>\n",
       "      <td>7.7805</td>\n",
       "      <td>...</td>\n",
       "      <td>1.6950</td>\n",
       "      <td>7.4330</td>\n",
       "      <td>105.85</td>\n",
       "      <td>3.8</td>\n",
       "      <td>8.0675</td>\n",
       "      <td>8.5285</td>\n",
       "      <td>73.40</td>\n",
       "      <td>1.6102</td>\n",
       "      <td>30.85</td>\n",
       "      <td>37.48</td>\n",
       "    </tr>\n",
       "    <tr>\n",
       "      <th>18</th>\n",
       "      <td>18</td>\n",
       "      <td>1/27/2000</td>\n",
       "      <td>1.5267</td>\n",
       "      <td>1.0111</td>\n",
       "      <td>1.9716</td>\n",
       "      <td>0.6111</td>\n",
       "      <td>1.7800</td>\n",
       "      <td>1.4350</td>\n",
       "      <td>8.2783</td>\n",
       "      <td>7.7805</td>\n",
       "      <td>...</td>\n",
       "      <td>1.6930</td>\n",
       "      <td>7.5250</td>\n",
       "      <td>104.91</td>\n",
       "      <td>3.8</td>\n",
       "      <td>8.1475</td>\n",
       "      <td>8.6150</td>\n",
       "      <td>73.45</td>\n",
       "      <td>1.6317</td>\n",
       "      <td>30.83</td>\n",
       "      <td>37.46</td>\n",
       "    </tr>\n",
       "    <tr>\n",
       "      <th>19</th>\n",
       "      <td>19</td>\n",
       "      <td>1/28/2000</td>\n",
       "      <td>1.5962</td>\n",
       "      <td>1.0241</td>\n",
       "      <td>2.0534</td>\n",
       "      <td>0.6169</td>\n",
       "      <td>1.7900</td>\n",
       "      <td>1.4495</td>\n",
       "      <td>8.2781</td>\n",
       "      <td>7.7800</td>\n",
       "      <td>...</td>\n",
       "      <td>1.7100</td>\n",
       "      <td>7.6165</td>\n",
       "      <td>107.15</td>\n",
       "      <td>3.8</td>\n",
       "      <td>8.2700</td>\n",
       "      <td>8.8200</td>\n",
       "      <td>73.05</td>\n",
       "      <td>1.6485</td>\n",
       "      <td>30.75</td>\n",
       "      <td>37.65</td>\n",
       "    </tr>\n",
       "  </tbody>\n",
       "</table>\n",
       "<p>20 rows × 24 columns</p>\n",
       "</div>"
      ],
      "text/plain": [
       "    Unnamed: 0 Time Serie  AUSTRALIA - AUSTRALIAN DOLLAR/US$  \\\n",
       "0            0   1/3/2000                             1.5172   \n",
       "1            1   1/4/2000                             1.5239   \n",
       "2            2   1/5/2000                             1.5267   \n",
       "3            3   1/6/2000                             1.5291   \n",
       "4            4   1/7/2000                             1.5272   \n",
       "5            5  1/10/2000                             1.5242   \n",
       "6            6  1/11/2000                             1.5209   \n",
       "7            7  1/12/2000                             1.5202   \n",
       "8            8  1/13/2000                             1.4954   \n",
       "9            9  1/14/2000                             1.5004   \n",
       "10          10  1/17/2000                                NaN   \n",
       "11          11  1/18/2000                             1.5060   \n",
       "12          12  1/19/2000                             1.5074   \n",
       "13          13  1/20/2000                             1.5002   \n",
       "14          14  1/21/2000                             1.5103   \n",
       "15          15  1/24/2000                             1.5281   \n",
       "16          16  1/25/2000                             1.5286   \n",
       "17          17  1/26/2000                             1.5373   \n",
       "18          18  1/27/2000                             1.5267   \n",
       "19          19  1/28/2000                             1.5962   \n",
       "\n",
       "    EURO AREA - EURO/US$  NEW ZEALAND - NEW ZELAND DOLLAR/US$  \\\n",
       "0                 0.9847                               1.9033   \n",
       "1                 0.9700                               1.9238   \n",
       "2                 0.9676                               1.9339   \n",
       "3                 0.9686                               1.9436   \n",
       "4                 0.9714                               1.9380   \n",
       "5                 0.9754                               1.9350   \n",
       "6                 0.9688                               1.9365   \n",
       "7                 0.9727                               1.9286   \n",
       "8                 0.9737                               1.9084   \n",
       "9                 0.9874                               1.9186   \n",
       "10                   NaN                                  NaN   \n",
       "11                0.9880                               1.9342   \n",
       "12                0.9886                               1.9399   \n",
       "13                0.9869                               1.9486   \n",
       "14                0.9901                               1.9592   \n",
       "15                0.9981                               1.9759   \n",
       "16                0.9959                               1.9732   \n",
       "17                0.9989                               1.9763   \n",
       "18                1.0111                               1.9716   \n",
       "19                1.0241                               2.0534   \n",
       "\n",
       "    UNITED KINGDOM - UNITED KINGDOM POUND/US$  BRAZIL - REAL/US$  \\\n",
       "0                                      0.6146             1.8050   \n",
       "1                                      0.6109             1.8405   \n",
       "2                                      0.6092             1.8560   \n",
       "3                                      0.6070             1.8400   \n",
       "4                                      0.6104             1.8310   \n",
       "5                                      0.6107             1.8190   \n",
       "6                                      0.6068             1.8225   \n",
       "7                                      0.6073             1.8350   \n",
       "8                                      0.6067             1.8140   \n",
       "9                                      0.6115             1.8050   \n",
       "10                                        NaN                NaN   \n",
       "11                                     0.6105             1.7942   \n",
       "12                                     0.6083             1.7930   \n",
       "13                                     0.6047             1.7785   \n",
       "14                                     0.6059             1.7800   \n",
       "15                                     0.6053             1.7680   \n",
       "16                                     0.6067             1.7800   \n",
       "17                                     0.6099             1.7810   \n",
       "18                                     0.6111             1.7800   \n",
       "19                                     0.6169             1.7900   \n",
       "\n",
       "    CANADA - CANADIAN DOLLAR/US$  CHINA - YUAN/US$  \\\n",
       "0                         1.4465            8.2798   \n",
       "1                         1.4518            8.2799   \n",
       "2                         1.4518            8.2798   \n",
       "3                         1.4571            8.2797   \n",
       "4                         1.4505            8.2794   \n",
       "5                         1.4568            8.2794   \n",
       "6                         1.4570            8.2795   \n",
       "7                         1.4550            8.2796   \n",
       "8                         1.4495            8.2798   \n",
       "9                         1.4497            8.2797   \n",
       "10                           NaN               NaN   \n",
       "11                        1.4502            8.2793   \n",
       "12                        1.4527            8.2797   \n",
       "13                        1.4484            8.2794   \n",
       "14                        1.4420            8.2795   \n",
       "15                        1.4400            8.2789   \n",
       "16                        1.4389            8.2786   \n",
       "17                        1.4379            8.2782   \n",
       "18                        1.4350            8.2783   \n",
       "19                        1.4495            8.2781   \n",
       "\n",
       "    HONG KONG - HONG KONG DOLLAR/US$  ...  SINGAPORE - SINGAPORE DOLLAR/US$  \\\n",
       "0                             7.7765  ...                            1.6563   \n",
       "1                             7.7775  ...                            1.6535   \n",
       "2                             7.7780  ...                            1.6560   \n",
       "3                             7.7785  ...                            1.6655   \n",
       "4                             7.7783  ...                            1.6625   \n",
       "5                             7.7785  ...                            1.6618   \n",
       "6                             7.7785  ...                            1.6690   \n",
       "7                             7.7787  ...                            1.6690   \n",
       "8                             7.7788  ...                            1.6700   \n",
       "9                             7.7789  ...                            1.6752   \n",
       "10                               NaN  ...                               NaN   \n",
       "11                            7.7790  ...                            1.6735   \n",
       "12                            7.7798  ...                            1.6753   \n",
       "13                            7.7795  ...                            1.6765   \n",
       "14                            7.7792  ...                            1.6810   \n",
       "15                            7.7795  ...                            1.6825   \n",
       "16                            7.7800  ...                            1.6867   \n",
       "17                            7.7805  ...                            1.6950   \n",
       "18                            7.7805  ...                            1.6930   \n",
       "19                            7.7800  ...                            1.7100   \n",
       "\n",
       "    DENMARK - DANISH KRONE/US$  JAPAN - YEN/US$  MALAYSIA - RINGGIT/US$  \\\n",
       "0                       7.3290           101.70                     3.8   \n",
       "1                       7.2180           103.09                     3.8   \n",
       "2                       7.2080           103.77                     3.8   \n",
       "3                       7.2125           105.19                     3.8   \n",
       "4                       7.2285           105.17                     3.8   \n",
       "5                       7.2540           105.28                     3.8   \n",
       "6                       7.2140           106.09                     3.8   \n",
       "7                       7.2360           105.76                     3.8   \n",
       "8                       7.2520           106.09                     3.8   \n",
       "9                       7.3470           105.86                     3.8   \n",
       "10                         NaN              NaN                     NaN   \n",
       "11                      7.3560           105.49                     3.8   \n",
       "12                      7.3655           105.39                     3.8   \n",
       "13                      7.3430           105.45                     3.8   \n",
       "14                      7.3725           104.96                     3.8   \n",
       "15                      7.4280           105.52                     3.8   \n",
       "16                      7.4120           105.87                     3.8   \n",
       "17                      7.4330           105.85                     3.8   \n",
       "18                      7.5250           104.91                     3.8   \n",
       "19                      7.6165           107.15                     3.8   \n",
       "\n",
       "    NORWAY - NORWEGIAN KRONE/US$  SWEDEN - KRONA/US$  \\\n",
       "0                         7.9640              8.4430   \n",
       "1                         7.9340              8.3600   \n",
       "2                         7.9350              8.3530   \n",
       "3                         7.9400              8.3675   \n",
       "4                         7.9660              8.4150   \n",
       "5                         8.0240              8.4490   \n",
       "6                         7.9690              8.3970   \n",
       "7                         7.9770              8.4180   \n",
       "8                         7.9425              8.4170   \n",
       "9                         7.9970              8.4740   \n",
       "10                           NaN                 NaN   \n",
       "11                        8.0100              8.4680   \n",
       "12                        8.0000              8.4870   \n",
       "13                        7.9770              8.4680   \n",
       "14                        7.9990              8.4930   \n",
       "15                        8.0260              8.5260   \n",
       "16                        8.0360              8.5210   \n",
       "17                        8.0675              8.5285   \n",
       "18                        8.1475              8.6150   \n",
       "19                        8.2700              8.8200   \n",
       "\n",
       "    SRI LANKA - SRI LANKAN RUPEE/US$  SWITZERLAND - FRANC/US$  \\\n",
       "0                              72.30                   1.5808   \n",
       "1                              72.65                   1.5565   \n",
       "2                              72.95                   1.5526   \n",
       "3                              72.95                   1.5540   \n",
       "4                              73.15                   1.5623   \n",
       "5                              73.30                   1.5704   \n",
       "6                              73.35                   1.5605   \n",
       "7                              73.35                   1.5660   \n",
       "8                              73.35                   1.5707   \n",
       "9                              73.35                   1.5945   \n",
       "10                               NaN                      NaN   \n",
       "11                             72.85                   1.5942   \n",
       "12                             73.20                   1.5965   \n",
       "13                             72.95                   1.5915   \n",
       "14                             73.30                   1.5973   \n",
       "15                             72.95                   1.6090   \n",
       "16                             73.45                   1.6085   \n",
       "17                             73.40                   1.6102   \n",
       "18                             73.45                   1.6317   \n",
       "19                             73.05                   1.6485   \n",
       "\n",
       "    TAIWAN - NEW TAIWAN DOLLAR/US$  THAILAND - BAHT/US$  \n",
       "0                            31.38                36.97  \n",
       "1                            30.60                37.13  \n",
       "2                            30.80                37.10  \n",
       "3                            31.75                37.62  \n",
       "4                            30.85                37.30  \n",
       "5                            30.83                37.27  \n",
       "6                            30.83                37.61  \n",
       "7                            30.80                37.54  \n",
       "8                            30.80                37.49  \n",
       "9                            30.83                37.55  \n",
       "10                             NaN                  NaN  \n",
       "11                           30.89                37.40  \n",
       "12                           30.85                37.40  \n",
       "13                           30.85                37.28  \n",
       "14                           30.85                37.23  \n",
       "15                           30.85                37.30  \n",
       "16                           30.85                37.27  \n",
       "17                           30.85                37.48  \n",
       "18                           30.83                37.46  \n",
       "19                           30.75                37.65  \n",
       "\n",
       "[20 rows x 24 columns]"
      ]
     },
     "execution_count": 3,
     "metadata": {},
     "output_type": "execute_result"
    }
   ],
   "source": [
    "data_set.head(20)"
   ]
  },
  {
   "cell_type": "code",
   "execution_count": 4,
   "metadata": {},
   "outputs": [
    {
     "data": {
      "text/plain": [
       "(5216, 24)"
      ]
     },
     "execution_count": 4,
     "metadata": {},
     "output_type": "execute_result"
    }
   ],
   "source": [
    "data_set.shape"
   ]
  },
  {
   "cell_type": "code",
   "execution_count": 5,
   "metadata": {},
   "outputs": [],
   "source": [
    "data_set = data_set.dropna()"
   ]
  },
  {
   "cell_type": "code",
   "execution_count": 6,
   "metadata": {},
   "outputs": [
    {
     "data": {
      "text/plain": [
       "0       1.5172\n",
       "1       1.5239\n",
       "2       1.5267\n",
       "3       1.5291\n",
       "4       1.5272\n",
       "         ...  \n",
       "5210    1.4445\n",
       "5212    1.4411\n",
       "5213    1.4331\n",
       "5214    1.4278\n",
       "5215    1.4225\n",
       "Name: AUSTRALIA - AUSTRALIAN DOLLAR/US$, Length: 5014, dtype: float64"
      ]
     },
     "execution_count": 6,
     "metadata": {},
     "output_type": "execute_result"
    }
   ],
   "source": [
    "#Data frame\n",
    "df = data_set['AUSTRALIA - AUSTRALIAN DOLLAR/US$']\n",
    "df"
   ]
  },
  {
   "cell_type": "code",
   "execution_count": 7,
   "metadata": {},
   "outputs": [],
   "source": [
    "var = 'KOREA'"
   ]
  },
  {
   "cell_type": "code",
   "execution_count": 8,
   "metadata": {},
   "outputs": [],
   "source": [
    "df = np.array(df).reshape(-1,1)\n",
    "\n",
    "from sklearn.preprocessing import MinMaxScaler\n",
    "scaler = MinMaxScaler()\n",
    "\n",
    "df = scaler.fit_transform(df)"
   ]
  },
  {
   "cell_type": "code",
   "execution_count": 9,
   "metadata": {},
   "outputs": [
    {
     "name": "stdout",
     "output_type": "stream",
     "text": [
      "(4800, 1)\n",
      "(214, 1)\n"
     ]
    }
   ],
   "source": [
    "#Training and test sets\n",
    "train = df[:4800]\n",
    "test = df[4800:]\n",
    "\n",
    "print(train.shape)\n",
    "print(test.shape)"
   ]
  },
  {
   "cell_type": "code",
   "execution_count": 10,
   "metadata": {},
   "outputs": [
    {
     "name": "stdout",
     "output_type": "stream",
     "text": [
      "(4798, 1)\n",
      "(4798,)\n"
     ]
    }
   ],
   "source": [
    "def get_data(data, look_back):\n",
    "  data_x, data_y = [],[]\n",
    "  for i in range(len(data)-look_back-1):\n",
    "    data_x.append(data[i:(i+look_back),0])\n",
    "    data_y.append(data[i+look_back,0])\n",
    "  return np.array(data_x) , np.array(data_y)\n",
    "\n",
    "look_back = 1\n",
    "\n",
    "x_train , y_train = get_data(train, look_back)\n",
    "\n",
    "print(x_train.shape)\n",
    "print(y_train.shape)"
   ]
  },
  {
   "cell_type": "code",
   "execution_count": 11,
   "metadata": {},
   "outputs": [
    {
     "name": "stdout",
     "output_type": "stream",
     "text": [
      "(212, 1)\n",
      "(212,)\n"
     ]
    }
   ],
   "source": [
    "x_test , y_test = get_data(test,look_back)\n",
    "\n",
    "print(x_test.shape)\n",
    "print(y_test.shape)"
   ]
  },
  {
   "cell_type": "code",
   "execution_count": 12,
   "metadata": {},
   "outputs": [],
   "source": [
    "import pandas as pd\n",
    "import numpy as np\n",
    "from sklearn import model_selection\n",
    "from sklearn.linear_model import LinearRegression\n",
    "from sklearn.linear_model import Ridge\n",
    "from sklearn.linear_model import Lasso\n",
    "from sklearn.linear_model import ElasticNet\n",
    "from sklearn.neighbors import KNeighborsRegressor\n",
    "from sklearn.tree import DecisionTreeRegressor\n",
    "from sklearn.svm import SVR\n",
    "from sklearn.ensemble import RandomForestRegressor\n",
    "from sklearn.metrics import r2_score\n",
    "from sklearn.model_selection import train_test_split\n",
    "from sklearn.metrics import mean_squared_error\n",
    "from math import sqrt"
   ]
  },
  {
   "cell_type": "markdown",
   "metadata": {},
   "source": [
    "### Ridge"
   ]
  },
  {
   "cell_type": "code",
   "execution_count": 13,
   "metadata": {},
   "outputs": [
    {
     "name": "stdout",
     "output_type": "stream",
     "text": [
      "Mean Absolute Error: 0.003946650580083585\n",
      "Mean Squared Error: 2.3838628879494806e-05\n",
      "Root Mean Squared Error: 0.004882481836063992\n",
      "Mean_absolute_percentage_error:  0.8525887181527476\n"
     ]
    }
   ],
   "source": [
    "from sklearn import metrics\n",
    "from sklearn.metrics import accuracy_score,confusion_matrix\n",
    "model = Ridge(alpha=.01)\n",
    "model.fit(x_train, y_train) \n",
    "y_pred= model.predict(x_test)\n",
    "\n",
    "#Mean Squared Error\n",
    "from sklearn import metrics\n",
    "from sklearn.metrics import accuracy_score,confusion_matrix\n",
    "#mean_squared_error(y_test, y_pred)\n",
    "print('Mean Absolute Error:', metrics.mean_absolute_error(y_test, y_pred))  \n",
    "print('Mean Squared Error:', metrics.mean_squared_error(y_test, y_pred))  \n",
    "print('Root Mean Squared Error:', np.sqrt(metrics.mean_squared_error(y_test, y_pred)))\n",
    "import numpy as np\n",
    "\n",
    "def mean_absolute_percentage_error(y_test, y_pred): \n",
    "    y_test, y_pred = np.array(y_test), np.array(y_pred)\n",
    "    return np.mean(np.abs((y_test - y_pred) / y_test)) * 100\n",
    "\n",
    "print('Mean_absolute_percentage_error: ', mean_absolute_percentage_error(y_test, y_pred))"
   ]
  },
  {
   "cell_type": "code",
   "execution_count": 14,
   "metadata": {},
   "outputs": [
    {
     "name": "stdout",
     "output_type": "stream",
     "text": [
      "Variance score: 0.95\n",
      "R2 score : 0.95\n"
     ]
    }
   ],
   "source": [
    "print('Variance score: %.2f' % model.score(x_test, y_test))\n",
    "print(\"R2 score : %.2f\" % r2_score(y_test,y_pred))"
   ]
  },
  {
   "cell_type": "code",
   "execution_count": 15,
   "metadata": {},
   "outputs": [
    {
     "data": {
      "image/png": "[encoded data removed]",
      "text/plain": [
       "<Figure size 720x360 with 1 Axes>"
      ]
     },
     "metadata": {
      "needs_background": "light"
     },
     "output_type": "display_data"
    }
   ],
   "source": [
    "#Visualizing the results\n",
    "plt.figure(figsize=(10,5))\n",
    "plt.title('Foreign Exchange Rate of %s by Ridge Regression'%var)\n",
    "plt.plot(y_test , label = 'Actual', color = 'g')\n",
    "plt.plot(y_pred , label = 'Predicted', color = 'r')\n",
    "plt.legend()\n",
    "plt.savefig(\"%s + Ridge.png\"%var)"
   ]
  },
  {
   "cell_type": "markdown",
   "metadata": {},
   "source": [
    "### Lasso"
   ]
  },
  {
   "cell_type": "code",
   "execution_count": 16,
   "metadata": {},
   "outputs": [
    {
     "name": "stdout",
     "output_type": "stream",
     "text": [
      "Mean Absolute Error: 0.018520009215706165\n",
      "Mean Squared Error: 0.00037688200622096134\n",
      "Root Mean Squared Error: 0.01941344910676517\n",
      "Mean_absolute_percentage_error:  3.967197784813776\n"
     ]
    }
   ],
   "source": [
    "from sklearn import metrics\n",
    "from sklearn.metrics import accuracy_score,confusion_matrix\n",
    "\n",
    "model_lasso = Lasso(alpha=0.01)\n",
    "model_lasso.fit(x_train, y_train) \n",
    "y_pred= model_lasso.predict(x_test)\n",
    "\n",
    "#Mean Squared Error\n",
    "from sklearn import metrics\n",
    "from sklearn.metrics import accuracy_score,confusion_matrix\n",
    "#mean_squared_error(y_test, y_pred)\n",
    "print('Mean Absolute Error:', metrics.mean_absolute_error(y_test, y_pred))  \n",
    "print('Mean Squared Error:', metrics.mean_squared_error(y_test, y_pred))  \n",
    "print('Root Mean Squared Error:', np.sqrt(metrics.mean_squared_error(y_test, y_pred)))\n",
    "import numpy as np\n",
    "\n",
    "def mean_absolute_percentage_error(y_test, y_pred): \n",
    "    y_test, y_pred = np.array(y_test), np.array(y_pred)\n",
    "    return np.mean(np.abs((y_test - y_pred) / y_test)) * 100\n",
    "\n",
    "print('Mean_absolute_percentage_error: ', mean_absolute_percentage_error(y_test, y_pred))"
   ]
  },
  {
   "cell_type": "code",
   "execution_count": 17,
   "metadata": {},
   "outputs": [
    {
     "name": "stdout",
     "output_type": "stream",
     "text": [
      "Variance score: 0.95\n",
      "R2 score : 0.22\n"
     ]
    }
   ],
   "source": [
    "print('Variance score: %.2f' % model.score(x_test, y_test))\n",
    "print(\"R2 score : %.2f\" % r2_score(y_test,y_pred))"
   ]
  },
  {
   "cell_type": "code",
   "execution_count": 18,
   "metadata": {},
   "outputs": [
    {
     "data": {
      "image/png": "[encoded data removed]",
      "text/plain": [
       "<Figure size 720x360 with 1 Axes>"
      ]
     },
     "metadata": {
      "needs_background": "light"
     },
     "output_type": "display_data"
    }
   ],
   "source": [
    "#Visualizing the results\n",
    "plt.figure(figsize=(10,5))\n",
    "plt.title('Foreign Exchange Rate of %s by Lasso Regression'%var)\n",
    "plt.plot(y_test , label = 'Actual', color = 'g')\n",
    "plt.plot(y_pred , label = 'Predicted', color = 'r')\n",
    "plt.legend()\n",
    "plt.savefig(\"%s + Lasso.png\"%var)"
   ]
  },
  {
   "cell_type": "markdown",
   "metadata": {},
   "source": [
    "### Decision Tree"
   ]
  },
  {
   "cell_type": "code",
   "execution_count": 19,
   "metadata": {},
   "outputs": [
    {
     "name": "stdout",
     "output_type": "stream",
     "text": [
      "Mean Absolute Error: 0.012750783732923692\n",
      "Mean Squared Error: 0.00035332786427157614\n",
      "Root Mean Squared Error: 0.01879701743020887\n",
      "Mean_absolute_percentage_error:  2.7189257340313504\n"
     ]
    }
   ],
   "source": [
    "from sklearn import metrics\n",
    "from sklearn.metrics import accuracy_score,confusion_matrix\n",
    "\n",
    "regressor = DecisionTreeRegressor(random_state=0)\n",
    "regressor.fit(x_train, y_train) \n",
    "y_pred= regressor.predict(x_test)\n",
    "\n",
    "#Mean Squared Error\n",
    "from sklearn import metrics\n",
    "from sklearn.metrics import accuracy_score,confusion_matrix\n",
    "#mean_squared_error(y_test, y_pred)\n",
    "print('Mean Absolute Error:', metrics.mean_absolute_error(y_test, y_pred))  \n",
    "print('Mean Squared Error:', metrics.mean_squared_error(y_test, y_pred))  \n",
    "print('Root Mean Squared Error:', np.sqrt(metrics.mean_squared_error(y_test, y_pred)))\n",
    "import numpy as np\n",
    "\n",
    "def mean_absolute_percentage_error(y_test, y_pred): \n",
    "    y_test, y_pred = np.array(y_test), np.array(y_pred)\n",
    "    return np.mean(np.abs((y_test - y_pred) / y_test)) * 100\n",
    "\n",
    "print('Mean_absolute_percentage_error: ', mean_absolute_percentage_error(y_test, y_pred))"
   ]
  },
  {
   "cell_type": "code",
   "execution_count": 20,
   "metadata": {},
   "outputs": [
    {
     "name": "stdout",
     "output_type": "stream",
     "text": [
      "Variance score: 0.95\n",
      "R2 score : 0.27\n"
     ]
    }
   ],
   "source": [
    "print('Variance score: %.2f' % model.score(x_test, y_test))\n",
    "print(\"R2 score : %.2f\" % r2_score(y_test,y_pred))"
   ]
  },
  {
   "cell_type": "code",
   "execution_count": 21,
   "metadata": {},
   "outputs": [
    {
     "data": {
      "image/png": "[encoded data removed]",
      "text/plain": [
       "<Figure size 720x360 with 1 Axes>"
      ]
     },
     "metadata": {
      "needs_background": "light"
     },
     "output_type": "display_data"
    }
   ],
   "source": [
    "#Visualizing the results\n",
    "plt.figure(figsize=(10,5))\n",
    "plt.title('Foreign Exchange Rate of %s by Decision Tree'%var)\n",
    "plt.plot(y_test , label = 'Actual', color = 'g')\n",
    "plt.plot(y_pred , label = 'Predicted', color = 'r')\n",
    "plt.legend()\n",
    "plt.savefig(\"%s + Tree.png\"%var)"
   ]
  },
  {
   "cell_type": "markdown",
   "metadata": {},
   "source": [
    "## BiLSTM"
   ]
  },
  {
   "cell_type": "code",
   "execution_count": 22,
   "metadata": {},
   "outputs": [
    {
     "name": "stdout",
     "output_type": "stream",
     "text": [
      "(4798, 1, 1)\n",
      "(212, 1, 1)\n"
     ]
    }
   ],
   "source": [
    "#Processing train and test sets for LSTM model\n",
    "x_train = x_train.reshape(x_train.shape[0],x_train.shape[1], 1)\n",
    "x_test = x_test.reshape(x_test.shape[0],x_test.shape[1], 1)\n",
    "\n",
    "print(x_train.shape)\n",
    "print(x_test.shape)\n"
   ]
  },
  {
   "cell_type": "code",
   "execution_count": 23,
   "metadata": {},
   "outputs": [],
   "source": [
    "#Defining the LSTM model\n",
    "n_features=x_train.shape[1]\n",
    "model=Sequential()\n",
    "model.add(Bidirectional(LSTM(100,activation='relu')))\n",
    "model.add(Dense(n_features))\n",
    "\n",
    "#Model summary\n",
    "#model.summary()"
   ]
  },
  {
   "cell_type": "code",
   "execution_count": 24,
   "metadata": {},
   "outputs": [
    {
     "name": "stdout",
     "output_type": "stream",
     "text": [
      "Epoch 1/10\n",
      "4798/4798 [==============================] - 12s 2ms/step - loss: 0.0114\n",
      "Epoch 2/10\n",
      "4798/4798 [==============================] - 9s 2ms/step - loss: 1.3650e-04\n",
      "Epoch 3/10\n",
      "4798/4798 [==============================] - 9s 2ms/step - loss: 1.5463e-04\n",
      "Epoch 4/10\n",
      "4798/4798 [==============================] - 10s 2ms/step - loss: 1.3108e-04\n",
      "Epoch 5/10\n",
      "4798/4798 [==============================] - 10s 2ms/step - loss: 1.4702e-04\n",
      "Epoch 6/10\n",
      "4798/4798 [==============================] - 9s 2ms/step - loss: 1.4271e-04\n",
      "Epoch 7/10\n",
      "4798/4798 [==============================] - 10s 2ms/step - loss: 1.3292e-04\n",
      "Epoch 8/10\n",
      "4798/4798 [==============================] - 10s 2ms/step - loss: 1.3568e-04\n",
      "Epoch 9/10\n",
      "4798/4798 [==============================] - 10s 2ms/step - loss: 1.2385e-04\n",
      "Epoch 10/10\n",
      "4798/4798 [==============================] - 9s 2ms/step - loss: 1.2830e-04\n"
     ]
    },
    {
     "data": {
      "text/plain": [
       "<tensorflow.python.keras.callbacks.History at 0x1db9e3bd190>"
      ]
     },
     "execution_count": 24,
     "metadata": {},
     "output_type": "execute_result"
    }
   ],
   "source": [
    "#Compiling\n",
    "model.compile(optimizer='adam', loss = 'mse')\n",
    "\n",
    "#Training\n",
    "model.fit(x_train,y_train, epochs = 10, batch_size=1)"
   ]
  },
  {
   "cell_type": "code",
   "execution_count": 25,
   "metadata": {},
   "outputs": [
    {
     "name": "stdout",
     "output_type": "stream",
     "text": [
      "[[1.3902904]\n",
      " [1.3995475]\n",
      " [1.4064152]\n",
      " [1.4101975]\n",
      " [1.4094012]\n",
      " [1.4115908]\n",
      " [1.4216427]\n",
      " [1.4198514]\n",
      " [1.4165671]\n",
      " [1.4149747]]\n"
     ]
    }
   ],
   "source": [
    "#Prediction using the trained model\n",
    "scaler.scale_\n",
    "\n",
    "y_pred = model.predict(x_test)\n",
    "y_pred = scaler.inverse_transform(y_pred)\n",
    "print(y_pred[:10])"
   ]
  },
  {
   "cell_type": "code",
   "execution_count": 26,
   "metadata": {},
   "outputs": [
    {
     "name": "stdout",
     "output_type": "stream",
     "text": [
      "[[1.4017]\n",
      " [1.4086]\n",
      " [1.4124]\n",
      " [1.4116]\n",
      " [1.4138]\n",
      " [1.4239]\n",
      " [1.4221]\n",
      " [1.4188]\n",
      " [1.4172]\n",
      " [1.412 ]]\n"
     ]
    }
   ],
   "source": [
    "#Processing test shape\n",
    "y_test = np.array(y_test).reshape(-1,1)\n",
    "y_test = scaler.inverse_transform(y_test)\n",
    "print(y_test[:10])"
   ]
  },
  {
   "cell_type": "code",
   "execution_count": 27,
   "metadata": {},
   "outputs": [
    {
     "data": {
      "image/png": "[encoded data removed]",
      "text/plain": [
       "<Figure size 720x360 with 1 Axes>"
      ]
     },
     "metadata": {
      "needs_background": "light"
     },
     "output_type": "display_data"
    }
   ],
   "source": [
    "#Visualizing the results\n",
    "plt.figure(figsize=(10,5))\n",
    "plt.title('Foreign Exchange Rate of %s by BiLSTM'%var)\n",
    "plt.plot(y_test , label = 'Actual', color = 'g')\n",
    "plt.plot(y_pred , label = 'Predicted', color = 'r')\n",
    "plt.legend()\n",
    "#plt.grid()\n",
    "plt.savefig(\"%s + BiLSTM BR.png\"%var)"
   ]
  },
  {
   "cell_type": "code",
   "execution_count": 28,
   "metadata": {},
   "outputs": [
    {
     "name": "stdout",
     "output_type": "stream",
     "text": [
      "Mean Absolute Error: 0.004914192532593353\n",
      "Mean Squared Error: 3.848058627019793e-05\n",
      "Root Mean Squared Error: 0.006203272222802892\n",
      "mean_absolute_percentage_error:  0.3394048118255754\n"
     ]
    }
   ],
   "source": [
    "#Mean Squared Error\n",
    "from sklearn import metrics\n",
    "from sklearn.metrics import accuracy_score,confusion_matrix\n",
    "#mean_squared_error(y_test, y_pred)\n",
    "print('Mean Absolute Error:', metrics.mean_absolute_error(y_test, y_pred))  \n",
    "print('Mean Squared Error:', metrics.mean_squared_error(y_test, y_pred))  \n",
    "print('Root Mean Squared Error:', np.sqrt(metrics.mean_squared_error(y_test, y_pred)))\n",
    "\n",
    "import numpy as np\n",
    "\n",
    "def mean_absolute_percentage_error(y_test, y_pred): \n",
    "    y_test, y_pred = np.array(y_test), np.array(y_pred)\n",
    "    return np.mean(np.abs((y_test - y_pred) / y_test)) * 100\n",
    "\n",
    "print(\"mean_absolute_percentage_error: \", mean_absolute_percentage_error(y_test, y_pred))"
   ]
  },
  {
   "cell_type": "code",
   "execution_count": 30,
   "metadata": {},
   "outputs": [
    {
     "name": "stdout",
     "output_type": "stream",
     "text": [
      "R2 score : 0.94\n"
     ]
    }
   ],
   "source": [
    "#print('Variance score: %.2f' % model.score(x_test, y_test))\n",
    "print(\"R2 score : %.2f\" % r2_score(y_test,y_pred))"
   ]
  },
  {
   "cell_type": "code",
   "execution_count": null,
   "metadata": {},
   "outputs": [],
   "source": []
  }
 ],
 "metadata": {
  "kernelspec": {
   "display_name": "Python 3",
   "language": "python",
   "name": "python3"
  },
  "language_info": {
   "codemirror_mode": {
    "name": "ipython",
    "version": 3
   },
   "file_extension": ".py",
   "mimetype": "text/x-python",
   "name": "python",
   "nbconvert_exporter": "python",
   "pygments_lexer": "ipython3",
   "version": "3.8.5"
  }
 },
 "nbformat": 4,
 "nbformat_minor": 4
}
